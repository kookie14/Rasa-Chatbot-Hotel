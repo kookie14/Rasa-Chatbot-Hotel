{
 "cells": [
  {
   "cell_type": "code",
   "execution_count": 1,
   "metadata": {},
   "outputs": [],
   "source": [
    "import pandas as pd\n",
    "import numpy as np\n"
   ]
  },
  {
   "cell_type": "code",
   "execution_count": 2,
   "metadata": {},
   "outputs": [
    {
     "data": {
      "text/html": [
       "<div>\n",
       "<style scoped>\n",
       "    .dataframe tbody tr th:only-of-type {\n",
       "        vertical-align: middle;\n",
       "    }\n",
       "\n",
       "    .dataframe tbody tr th {\n",
       "        vertical-align: top;\n",
       "    }\n",
       "\n",
       "    .dataframe thead th {\n",
       "        text-align: right;\n",
       "    }\n",
       "</style>\n",
       "<table border=\"1\" class=\"dataframe\">\n",
       "  <thead>\n",
       "    <tr style=\"text-align: right;\">\n",
       "      <th></th>\n",
       "      <th>name</th>\n",
       "      <th>id_card</th>\n",
       "      <th>room_type</th>\n",
       "      <th>quantity</th>\n",
       "      <th>intend_time</th>\n",
       "      <th>reservation_form</th>\n",
       "    </tr>\n",
       "  </thead>\n",
       "  <tbody>\n",
       "    <tr>\n",
       "      <th>0</th>\n",
       "      <td>Nguyen Manh Cuong</td>\n",
       "      <td>12345678901</td>\n",
       "      <td>vip</td>\n",
       "      <td>4</td>\n",
       "      <td>2 days</td>\n",
       "      <td>now</td>\n",
       "    </tr>\n",
       "    <tr>\n",
       "      <th>1</th>\n",
       "      <td>Nguyễn Mạnh Hùng</td>\n",
       "      <td>123456789001</td>\n",
       "      <td>vip</td>\n",
       "      <td>2</td>\n",
       "      <td>two days</td>\n",
       "      <td>now</td>\n",
       "    </tr>\n",
       "    <tr>\n",
       "      <th>2</th>\n",
       "      <td>Trinh Thi Cuc</td>\n",
       "      <td>123456789001</td>\n",
       "      <td>regular</td>\n",
       "      <td>3</td>\n",
       "      <td>2 days</td>\n",
       "      <td>reservation</td>\n",
       "    </tr>\n",
       "  </tbody>\n",
       "</table>\n",
       "</div>"
      ],
      "text/plain": [
       "                name       id_card room_type  quantity intend_time  \\\n",
       "0  Nguyen Manh Cuong   12345678901       vip         4      2 days   \n",
       "1   Nguyễn Mạnh Hùng  123456789001       vip         2    two days   \n",
       "2      Trinh Thi Cuc  123456789001   regular         3      2 days   \n",
       "\n",
       "  reservation_form  \n",
       "0              now  \n",
       "1              now  \n",
       "2      reservation  "
      ]
     },
     "execution_count": 2,
     "metadata": {},
     "output_type": "execute_result"
    }
   ],
   "source": [
    "data = pd.read_csv(\"\\data\\data_reservation.csv\")\n",
    "data"
   ]
  },
  {
   "cell_type": "code",
   "execution_count": 3,
   "metadata": {},
   "outputs": [
    {
     "data": {
      "text/plain": [
       "[0, 1, 2]"
      ]
     },
     "execution_count": 3,
     "metadata": {},
     "output_type": "execute_result"
    }
   ],
   "source": [
    "list(data.index)"
   ]
  },
  {
   "cell_type": "code",
   "execution_count": 4,
   "metadata": {},
   "outputs": [],
   "source": [
    "\n",
    "row1 = pd.DataFrame([[\"Trinh Thi Cuc\",\"122\",\"single\",2,6,\"now\"]], columns= ['name' , \"id_card\" , \"room_type\" , \"quantity\" , \"intend_time\", \"reservation_form\"],index=[2])\n",
    "data = data.append(row1)\n"
   ]
  },
  {
   "cell_type": "code",
   "execution_count": 5,
   "metadata": {},
   "outputs": [
    {
     "data": {
      "text/html": [
       "<div>\n",
       "<style scoped>\n",
       "    .dataframe tbody tr th:only-of-type {\n",
       "        vertical-align: middle;\n",
       "    }\n",
       "\n",
       "    .dataframe tbody tr th {\n",
       "        vertical-align: top;\n",
       "    }\n",
       "\n",
       "    .dataframe thead th {\n",
       "        text-align: right;\n",
       "    }\n",
       "</style>\n",
       "<table border=\"1\" class=\"dataframe\">\n",
       "  <thead>\n",
       "    <tr style=\"text-align: right;\">\n",
       "      <th></th>\n",
       "      <th>name</th>\n",
       "      <th>id_card</th>\n",
       "      <th>room_type</th>\n",
       "      <th>quantity</th>\n",
       "      <th>intend_time</th>\n",
       "      <th>reservation_form</th>\n",
       "    </tr>\n",
       "  </thead>\n",
       "  <tbody>\n",
       "    <tr>\n",
       "      <th>0</th>\n",
       "      <td>Nguyen Manh Cuong</td>\n",
       "      <td>12345678901</td>\n",
       "      <td>vip</td>\n",
       "      <td>4</td>\n",
       "      <td>2 days</td>\n",
       "      <td>now</td>\n",
       "    </tr>\n",
       "    <tr>\n",
       "      <th>1</th>\n",
       "      <td>Nguyễn Mạnh Hùng</td>\n",
       "      <td>123456789001</td>\n",
       "      <td>vip</td>\n",
       "      <td>2</td>\n",
       "      <td>two days</td>\n",
       "      <td>now</td>\n",
       "    </tr>\n",
       "    <tr>\n",
       "      <th>2</th>\n",
       "      <td>Trinh Thi Cuc</td>\n",
       "      <td>123456789001</td>\n",
       "      <td>regular</td>\n",
       "      <td>3</td>\n",
       "      <td>2 days</td>\n",
       "      <td>reservation</td>\n",
       "    </tr>\n",
       "    <tr>\n",
       "      <th>2</th>\n",
       "      <td>Trinh Thi Cuc</td>\n",
       "      <td>122</td>\n",
       "      <td>single</td>\n",
       "      <td>2</td>\n",
       "      <td>6</td>\n",
       "      <td>now</td>\n",
       "    </tr>\n",
       "  </tbody>\n",
       "</table>\n",
       "</div>"
      ],
      "text/plain": [
       "                name       id_card room_type  quantity intend_time  \\\n",
       "0  Nguyen Manh Cuong   12345678901       vip         4      2 days   \n",
       "1   Nguyễn Mạnh Hùng  123456789001       vip         2    two days   \n",
       "2      Trinh Thi Cuc  123456789001   regular         3      2 days   \n",
       "2      Trinh Thi Cuc           122    single         2           6   \n",
       "\n",
       "  reservation_form  \n",
       "0              now  \n",
       "1              now  \n",
       "2      reservation  \n",
       "2              now  "
      ]
     },
     "execution_count": 5,
     "metadata": {},
     "output_type": "execute_result"
    }
   ],
   "source": [
    "data"
   ]
  },
  {
   "cell_type": "code",
   "execution_count": 6,
   "metadata": {},
   "outputs": [
    {
     "data": {
      "text/html": [
       "<div>\n",
       "<style scoped>\n",
       "    .dataframe tbody tr th:only-of-type {\n",
       "        vertical-align: middle;\n",
       "    }\n",
       "\n",
       "    .dataframe tbody tr th {\n",
       "        vertical-align: top;\n",
       "    }\n",
       "\n",
       "    .dataframe thead th {\n",
       "        text-align: right;\n",
       "    }\n",
       "</style>\n",
       "<table border=\"1\" class=\"dataframe\">\n",
       "  <thead>\n",
       "    <tr style=\"text-align: right;\">\n",
       "      <th></th>\n",
       "      <th>name</th>\n",
       "      <th>id_card</th>\n",
       "      <th>room_type</th>\n",
       "      <th>quantity</th>\n",
       "      <th>intend_time</th>\n",
       "      <th>reservation_form</th>\n",
       "    </tr>\n",
       "  </thead>\n",
       "  <tbody>\n",
       "    <tr>\n",
       "      <th>0</th>\n",
       "      <td>Nguyen Manh Cuong</td>\n",
       "      <td>12345678901</td>\n",
       "      <td>vip</td>\n",
       "      <td>4</td>\n",
       "      <td>2 days</td>\n",
       "      <td>now</td>\n",
       "    </tr>\n",
       "    <tr>\n",
       "      <th>1</th>\n",
       "      <td>Nguyễn Mạnh Hùng</td>\n",
       "      <td>123456789001</td>\n",
       "      <td>vip</td>\n",
       "      <td>2</td>\n",
       "      <td>two days</td>\n",
       "      <td>now</td>\n",
       "    </tr>\n",
       "    <tr>\n",
       "      <th>2</th>\n",
       "      <td>Trinh Thi Cuc</td>\n",
       "      <td>123456789001</td>\n",
       "      <td>regular</td>\n",
       "      <td>3</td>\n",
       "      <td>2 days</td>\n",
       "      <td>reservation</td>\n",
       "    </tr>\n",
       "    <tr>\n",
       "      <th>2</th>\n",
       "      <td>Trinh Thi Cuc</td>\n",
       "      <td>122</td>\n",
       "      <td>single</td>\n",
       "      <td>2</td>\n",
       "      <td>6</td>\n",
       "      <td>now</td>\n",
       "    </tr>\n",
       "    <tr>\n",
       "      <th>1</th>\n",
       "      <td>None</td>\n",
       "      <td>None</td>\n",
       "      <td>None</td>\n",
       "      <td>None</td>\n",
       "      <td>None</td>\n",
       "      <td>None</td>\n",
       "    </tr>\n",
       "  </tbody>\n",
       "</table>\n",
       "</div>"
      ],
      "text/plain": [
       "                name       id_card room_type quantity intend_time  \\\n",
       "0  Nguyen Manh Cuong   12345678901       vip        4      2 days   \n",
       "1   Nguyễn Mạnh Hùng  123456789001       vip        2    two days   \n",
       "2      Trinh Thi Cuc  123456789001   regular        3      2 days   \n",
       "2      Trinh Thi Cuc           122    single        2           6   \n",
       "1               None          None      None     None        None   \n",
       "\n",
       "  reservation_form  \n",
       "0              now  \n",
       "1              now  \n",
       "2      reservation  \n",
       "2              now  \n",
       "1             None  "
      ]
     },
     "execution_count": 6,
     "metadata": {},
     "output_type": "execute_result"
    }
   ],
   "source": [
    "row1 = pd.DataFrame([[\"None\",\"None\",\"None\",None,None,\"None\"]], columns= ['name' , \"id_card\" , \"room_type\" , \"quantity\" , \"intend_time\", \"reservation_form\"],index=[1])\n",
    "data = data.append(row1)\n",
    "data\n"
   ]
  },
  {
   "cell_type": "code",
   "execution_count": 7,
   "metadata": {},
   "outputs": [
    {
     "data": {
      "text/plain": [
       "['vip', 'vip', 'regular', 'single', 'None']"
      ]
     },
     "execution_count": 7,
     "metadata": {},
     "output_type": "execute_result"
    }
   ],
   "source": [
    "a = list(data[\"room_type\"])\n",
    "a"
   ]
  },
  {
   "cell_type": "code",
   "execution_count": 8,
   "metadata": {},
   "outputs": [
    {
     "data": {
      "text/plain": [
       "[2]"
      ]
     },
     "execution_count": 8,
     "metadata": {},
     "output_type": "execute_result"
    }
   ],
   "source": [
    "list(data.loc[data.room_type == \"single\"].index)"
   ]
  },
  {
   "cell_type": "code",
   "execution_count": null,
   "metadata": {},
   "outputs": [],
   "source": [
    "list()"
   ]
  }
 ],
 "metadata": {
  "interpreter": {
   "hash": "348907d6a805e3aff18463777e68219ad9f9877e8378b9312fcb98293899dbee"
  },
  "kernelspec": {
   "display_name": "Python 3.8.10 64-bit",
   "language": "python",
   "name": "python3"
  },
  "language_info": {
   "codemirror_mode": {
    "name": "ipython",
    "version": 3
   },
   "file_extension": ".py",
   "mimetype": "text/x-python",
   "name": "python",
   "nbconvert_exporter": "python",
   "pygments_lexer": "ipython3",
   "version": "3.8.10"
  },
  "orig_nbformat": 4
 },
 "nbformat": 4,
 "nbformat_minor": 2
}
