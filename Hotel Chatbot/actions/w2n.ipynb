{
 "cells": [
  {
   "cell_type": "code",
   "execution_count": 1,
   "metadata": {},
   "outputs": [],
   "source": [
    "from word2number import w2n\n",
    "\n"
   ]
  },
  {
   "cell_type": "code",
   "execution_count": 4,
   "metadata": {},
   "outputs": [
    {
     "data": {
      "text/plain": [
       "'123456789001'"
      ]
     },
     "execution_count": 4,
     "metadata": {},
     "output_type": "execute_result"
    }
   ],
   "source": [
    "\n",
    "def id_card_db(s):\n",
    "        result = \"\"\n",
    "        for i in s: \n",
    "            if \"0\" <= i <= \"9\": \n",
    "                result += i\n",
    "        return result \n",
    "\n",
    "slot_value = \"1 two-3 and four five 678 nine zero 01\"\n",
    "slot_value = slot_value.lower()\n",
    "slot_value = slot_value.strip()\n",
    "slot_value = slot_value.replace(\"-\",\" \")\n",
    "slot_value = slot_value.split(' ')\n",
    "for i in range(len(slot_value)):\n",
    "    try:\n",
    "        if \"A\" <= slot_value[i][0] <= \"z\":\n",
    "            slot_value[i] = str(w2n.word_to_num(slot_value[i]))\n",
    "    except:\n",
    "        pass\n",
    "slot_value = \"\".join(slot_value)\n",
    "slot_value = slot_value.replace(\"and\",\"\")\n",
    "slot_value = id_card_db(slot_value)\n",
    "slot_value"
   ]
  },
  {
   "cell_type": "code",
   "execution_count": 7,
   "metadata": {},
   "outputs": [],
   "source": [
    "if \"a\" in [\"a\" , \"an\"]:\n",
    "    slot_value = \"1\"\n",
    "\n",
    "slot_value = w2n.word_to_num(\"1\")"
   ]
  },
  {
   "cell_type": "code",
   "execution_count": null,
   "metadata": {},
   "outputs": [],
   "source": []
  }
 ],
 "metadata": {
  "interpreter": {
   "hash": "348907d6a805e3aff18463777e68219ad9f9877e8378b9312fcb98293899dbee"
  },
  "kernelspec": {
   "display_name": "Python 3.8.10 64-bit",
   "language": "python",
   "name": "python3"
  },
  "language_info": {
   "codemirror_mode": {
    "name": "ipython",
    "version": 3
   },
   "file_extension": ".py",
   "mimetype": "text/x-python",
   "name": "python",
   "nbconvert_exporter": "python",
   "pygments_lexer": "ipython3",
   "version": "3.8.10"
  },
  "orig_nbformat": 4
 },
 "nbformat": 4,
 "nbformat_minor": 2
}
